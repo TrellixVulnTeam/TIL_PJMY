{
 "cells": [
  {
   "cell_type": "markdown",
   "id": "c8a9f208",
   "metadata": {},
   "source": [
    "# 현주의 상자 바꾸기\n",
    "\n",
    "1. "
   ]
  },
  {
   "cell_type": "code",
   "execution_count": null,
   "id": "e7ec63e4",
   "metadata": {},
   "outputs": [],
   "source": [
    "# 여러개의 테스트 케이스가 주어지므로, 각각을 처리합니다.\n",
    "for test_case in range(1, T + 1):\n",
    "    N, Q = map(int, input().split())\n",
    "    \n",
    "    lst = [0] * N\n",
    "    \n",
    "    for i in range(1, Q+1): # Q회 반복\n",
    "        L, R = map(int, input().split())"
   ]
  }
 ],
 "metadata": {
  "kernelspec": {
   "display_name": "Python 3 (ipykernel)",
   "language": "python",
   "name": "python3"
  },
  "language_info": {
   "codemirror_mode": {
    "name": "ipython",
    "version": 3
   },
   "file_extension": ".py",
   "mimetype": "text/x-python",
   "name": "python",
   "nbconvert_exporter": "python",
   "pygments_lexer": "ipython3",
   "version": "3.9.9"
  }
 },
 "nbformat": 4,
 "nbformat_minor": 5
}
