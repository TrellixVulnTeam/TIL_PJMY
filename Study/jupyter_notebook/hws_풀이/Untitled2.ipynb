{
 "cells": [
  {
   "cell_type": "code",
   "execution_count": 5,
   "id": "5c5ad9b2",
   "metadata": {},
   "outputs": [
    {
     "name": "stdout",
     "output_type": "stream",
     "text": [
      "0\n",
      "0\n",
      "0\n",
      "Birth : 3, Current : 0\n"
     ]
    }
   ],
   "source": [
    "class Doggy:\n",
    "    num_of_dogs = 0\n",
    "    birth_of_dogs = 0\n",
    "    \n",
    "    def __init__(self, name, variety):\n",
    "        self.name = name\n",
    "        self.variety = variety        \n",
    "        Doggy.birth_of_dogs += 1\n",
    "        Doggy.num_of_dogs += 1\n",
    "    \n",
    "    def bark(self):\n",
    "        print('왈왈!')\n",
    "        \n",
    "    def get_status():\n",
    "        print(f'Birth : {Doggy.birth_of_dogs}, Current : {Doggy.num_of_dogs}')\n",
    "    \n",
    "    def __del__(self):\n",
    "        Doggy.num_of_dogs -= 1    \n",
    "        \n",
    "        \n",
    "d3 = Doggy('별이', '시츄')\n",
    "print(Doggy.num_of_dogs)\n",
    "d2 = Doggy('꽁이', '말티즈')\n",
    "print(Doggy.num_of_dogs)\n",
    "d1 = Doggy('초코', '푸들')\n",
    "print(Doggy.num_of_dogs)\n",
    "Doggy.get_status()"
   ]
  },
  {
   "cell_type": "code",
   "execution_count": null,
   "id": "a599eb0e",
   "metadata": {},
   "outputs": [],
   "source": []
  }
 ],
 "metadata": {
  "kernelspec": {
   "display_name": "Python 3 (ipykernel)",
   "language": "python",
   "name": "python3"
  },
  "language_info": {
   "codemirror_mode": {
    "name": "ipython",
    "version": 3
   },
   "file_extension": ".py",
   "mimetype": "text/x-python",
   "name": "python",
   "nbconvert_exporter": "python",
   "pygments_lexer": "ipython3",
   "version": "3.9.9"
  }
 },
 "nbformat": 4,
 "nbformat_minor": 5
}
