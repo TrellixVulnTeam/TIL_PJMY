{
 "cells": [
  {
   "cell_type": "code",
   "execution_count": 16,
   "id": "26f8d4b2",
   "metadata": {},
   "outputs": [
    {
     "name": "stdout",
     "output_type": "stream",
     "text": [
      "<class 'int'>\n"
     ]
    },
    {
     "ename": "TypeError",
     "evalue": "'builtin_function_or_method' object is not subscriptable",
     "output_type": "error",
     "traceback": [
      "\u001b[1;31m---------------------------------------------------------------------------\u001b[0m",
      "\u001b[1;31mTypeError\u001b[0m                                 Traceback (most recent call last)",
      "Input \u001b[1;32mIn [16]\u001b[0m, in \u001b[0;36m<module>\u001b[1;34m\u001b[0m\n\u001b[0;32m     15\u001b[0m \u001b[38;5;28;01mfor\u001b[39;00m i \u001b[38;5;129;01min\u001b[39;00m \u001b[38;5;28mrange\u001b[39m(day):\n\u001b[0;32m     16\u001b[0m     \u001b[38;5;28mprint\u001b[39m(\u001b[38;5;28mtype\u001b[39m(i))\n\u001b[1;32m---> 17\u001b[0m     \u001b[43mlist1\u001b[49m\u001b[38;5;241;43m.\u001b[39;49m\u001b[43mappend\u001b[49m\u001b[43m[\u001b[49m\u001b[38;5;124;43m'\u001b[39;49m\u001b[38;5;124;43mi\u001b[39;49m\u001b[38;5;124;43m'\u001b[39;49m\u001b[43m]\u001b[49m\n\u001b[0;32m     19\u001b[0m \u001b[38;5;28mprint\u001b[39m(list1)\n",
      "\u001b[1;31mTypeError\u001b[0m: 'builtin_function_or_method' object is not subscriptable"
     ]
    }
   ],
   "source": [
    "\n",
    "'''\n",
    "[1 1 1 1 1 -1 -1]\n",
    "\n",
    "\n",
    "\n",
    "'''\n",
    "h = 100\n",
    "day = 5\n",
    "day_cnt = 0\n",
    "night = 2\n",
    "total = 0\n",
    "\n",
    "list1 = []\n",
    "\n",
    "for i in range(day):\n",
    "    print(type(i))\n",
    "    list1.append['i']\n",
    "    \n",
    "print(list1)"
   ]
  },
  {
   "cell_type": "code",
   "execution_count": 17,
   "id": "9cee254b",
   "metadata": {},
   "outputs": [
    {
     "name": "stdout",
     "output_type": "stream",
     "text": [
      "33\n"
     ]
    }
   ],
   "source": [
    "h = 100\n",
    "day = 5\n",
    "night = 2\n",
    "day_cnt = 0\n",
    "total = 0\n",
    "\n",
    "while h > total:\n",
    "    total += day\n",
    "    day_cnt += 1\n",
    "    \n",
    "\n",
    "    if total < h:\n",
    "        total -= night\n",
    "print(day_cnt)"
   ]
  },
  {
   "cell_type": "code",
   "execution_count": 3,
   "id": "a584404f",
   "metadata": {},
   "outputs": [
    {
     "data": {
      "text/plain": [
       "['a', 'n']"
      ]
     },
     "execution_count": 3,
     "metadata": {},
     "output_type": "execute_result"
    }
   ],
   "source": [
    "# 1. 문자열을 순회하면서 문자열의 첫 등장 여부를 따지고\n",
    "\n",
    "# 2. 첫 등장이 아니라면 리스트에 원소를 넣어 준다.\n",
    "\n",
    "# 3. 그 리스트를 출력한다.\n",
    "def duplicated_letters(words):\n",
    "    res = []\n",
    "    curchr =''\n",
    "\n",
    "    for i in words:\n",
    "        if i in curchr:\n",
    "            if i in res:\n",
    "                continue\n",
    "            else:\n",
    "                res+= i\n",
    "        else:\n",
    "            curchr += i\n",
    "    \n",
    "    return res\n",
    "\n",
    "# duplicated_letters('apple')\n",
    "duplicated_letters('banana')"
   ]
  },
  {
   "cell_type": "code",
   "execution_count": null,
   "id": "e839e3e1",
   "metadata": {},
   "outputs": [],
   "source": []
  }
 ],
 "metadata": {
  "kernelspec": {
   "display_name": "Python 3 (ipykernel)",
   "language": "python",
   "name": "python3"
  },
  "language_info": {
   "codemirror_mode": {
    "name": "ipython",
    "version": 3
   },
   "file_extension": ".py",
   "mimetype": "text/x-python",
   "name": "python",
   "nbconvert_exporter": "python",
   "pygments_lexer": "ipython3",
   "version": "3.9.9"
  }
 },
 "nbformat": 4,
 "nbformat_minor": 5
}
